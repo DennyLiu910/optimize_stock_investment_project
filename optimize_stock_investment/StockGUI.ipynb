{
 "cells": [
  {
   "cell_type": "code",
   "execution_count": 1,
   "id": "a97c6bee-2bea-4382-a428-1a690a851438",
   "metadata": {
    "tags": []
   },
   "outputs": [
    {
     "ename": "RuntimeError",
     "evalue": "asyncio.run() cannot be called from a running event loop",
     "output_type": "error",
     "traceback": [
      "\u001b[1;31m---------------------------------------------------------------------------\u001b[0m",
      "\u001b[1;31mRuntimeError\u001b[0m                              Traceback (most recent call last)",
      "Cell \u001b[1;32mIn[1], line 40\u001b[0m\n\u001b[0;32m     37\u001b[0m     ft\u001b[38;5;241m.\u001b[39mapp(target\u001b[38;5;241m=\u001b[39mmain)\n\u001b[0;32m     39\u001b[0m \u001b[38;5;66;03m# 使用 asyncio 來啟動應用程式\u001b[39;00m\n\u001b[1;32m---> 40\u001b[0m asyncio\u001b[38;5;241m.\u001b[39mrun(async_main())\n",
      "File \u001b[1;32m~\\anaconda3\\Lib\\asyncio\\runners.py:186\u001b[0m, in \u001b[0;36mrun\u001b[1;34m(main, debug)\u001b[0m\n\u001b[0;32m    161\u001b[0m \u001b[38;5;250m\u001b[39m\u001b[38;5;124;03m\"\"\"Execute the coroutine and return the result.\u001b[39;00m\n\u001b[0;32m    162\u001b[0m \n\u001b[0;32m    163\u001b[0m \u001b[38;5;124;03mThis function runs the passed coroutine, taking care of\u001b[39;00m\n\u001b[1;32m   (...)\u001b[0m\n\u001b[0;32m    182\u001b[0m \u001b[38;5;124;03m    asyncio.run(main())\u001b[39;00m\n\u001b[0;32m    183\u001b[0m \u001b[38;5;124;03m\"\"\"\u001b[39;00m\n\u001b[0;32m    184\u001b[0m \u001b[38;5;28;01mif\u001b[39;00m events\u001b[38;5;241m.\u001b[39m_get_running_loop() \u001b[38;5;129;01mis\u001b[39;00m \u001b[38;5;129;01mnot\u001b[39;00m \u001b[38;5;28;01mNone\u001b[39;00m:\n\u001b[0;32m    185\u001b[0m     \u001b[38;5;66;03m# fail fast with short traceback\u001b[39;00m\n\u001b[1;32m--> 186\u001b[0m     \u001b[38;5;28;01mraise\u001b[39;00m \u001b[38;5;167;01mRuntimeError\u001b[39;00m(\n\u001b[0;32m    187\u001b[0m         \u001b[38;5;124m\"\u001b[39m\u001b[38;5;124masyncio.run() cannot be called from a running event loop\u001b[39m\u001b[38;5;124m\"\u001b[39m)\n\u001b[0;32m    189\u001b[0m \u001b[38;5;28;01mwith\u001b[39;00m Runner(debug\u001b[38;5;241m=\u001b[39mdebug) \u001b[38;5;28;01mas\u001b[39;00m runner:\n\u001b[0;32m    190\u001b[0m     \u001b[38;5;28;01mreturn\u001b[39;00m runner\u001b[38;5;241m.\u001b[39mrun(main)\n",
      "\u001b[1;31mRuntimeError\u001b[0m: asyncio.run() cannot be called from a running event loop"
     ]
    }
   ],
   "source": [
    "import flet as ft\n",
    "import json\n",
    "import subprocess\n",
    "import asyncio\n",
    "\n",
    "def main(page: ft.Page):\n",
    "    investment_amount_input = ft.TextField(label='Investment Amount', width=300)\n",
    "    tickers_input = ft.TextField(label='Tickers (comma separated)', width=300)\n",
    "    result_text = ft.Text()\n",
    "\n",
    "    def load_result(e):\n",
    "        investment_amount = float(investment_amount_input.value)\n",
    "        tickers = tickers_input.value.split(',')\n",
    "\n",
    "        with open('portfolio_optimization_input.json', 'w') as f:\n",
    "            json.dump({'investment_amount': investment_amount, 'tickers': tickers}, f)\n",
    "        \n",
    "        subprocess.run([\"python\", \"script.py\"])\n",
    "\n",
    "        with open('portfolio_optimization_result.json', 'r') as f:\n",
    "            result = json.load(f)\n",
    "\n",
    "        investment_plan = result['investment_plan']\n",
    "        expected_return = result['expected_return']\n",
    "\n",
    "        investment_plan_str = '\\n'.join([f\"{ticker}: ${amount:.2f}\" for ticker, amount in investment_plan.items()])\n",
    "        result_text.value = f\"Expected Return: {expected_return:.2%}\\n\\nOptimal Investment Plan:\\n{investment_plan_str}\"\n",
    "        page.update()\n",
    "\n",
    "    load_button = ft.Button(text=\"Analyze and Calculate\", on_click=load_result)\n",
    "\n",
    "    page.add(\n",
    "        ft.Column([investment_amount_input, tickers_input, load_button, result_text])\n",
    "    )\n",
    "\n",
    "async def async_main():\n",
    "    ft.app(target=main)\n",
    "\n",
    "# 使用 asyncio 來啟動應用程式\n",
    "asyncio.run(async_main())\n"
   ]
  }
 ],
 "metadata": {
  "kernelspec": {
   "display_name": "Python 3 (ipykernel)",
   "language": "python",
   "name": "python3"
  },
  "language_info": {
   "codemirror_mode": {
    "name": "ipython",
    "version": 3
   },
   "file_extension": ".py",
   "mimetype": "text/x-python",
   "name": "python",
   "nbconvert_exporter": "python",
   "pygments_lexer": "ipython3",
   "version": "3.11.5"
  }
 },
 "nbformat": 4,
 "nbformat_minor": 5
}
